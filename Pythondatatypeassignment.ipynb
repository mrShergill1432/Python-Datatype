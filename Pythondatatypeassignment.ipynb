{
  "nbformat": 4,
  "nbformat_minor": 0,
  "metadata": {
    "colab": {
      "provenance": []
    },
    "kernelspec": {
      "name": "python3",
      "display_name": "Python 3"
    },
    "language_info": {
      "name": "python"
    }
  },
  "cells": [
    {
      "cell_type": "markdown",
      "source": [],
      "metadata": {
        "id": "QBu5jP_Yf_r-"
      }
    },
    {
      "cell_type": "markdown",
      "source": [
        "# Data Types and Structures Questions\n"
      ],
      "metadata": {
        "id": "2W3le7R9gOA-"
      }
    },
    {
      "cell_type": "markdown",
      "source": [
        "#  1. What are data structures, and why are they important?\n",
        "\n",
        "# Ans>>\n",
        "A data structure is a way of organizing, storing, and managing data so that it can be accessed and modified efficiently. It provides a systematic way to handle data, making operations like searching, sorting, inserting, and deleting more efficient.\n",
        "They  are important bcoz:-\n",
        "* Improve Efficiency – They optimize data operations like searching and sorting.\n",
        "* Enhance Performance – Efficient data structures reduce time and memory usages.\n",
        "* Help in Problem Solving – Many algorithms rely on data structures for efficient execution.\n",
        "* Enable Scalability – They help in managing large-scale applications smoothly."
      ],
      "metadata": {
        "id": "zWtDOsCkgXPf"
      }
    },
    {
      "cell_type": "markdown",
      "source": [
        "# 2. Explain the difference between mutable and immutable data types with examples:-\n",
        "\n",
        "# Ans-\n",
        "In Python, data types are classified as mutable and immutable based on whether their values can be changed after creation.\n",
        "* Mutable Data Types (Can be Changed)\n",
        "    These data types allow modification without changing their memory reference.\n",
        "    Can be changed after creation.\n",
        "    Supports in-place modification\n",
        "    Can be changed in place (e.g., list, dict, set).\n",
        "* Immutable Data Types (Cannot be Changed)\n",
        "    Once created, their values cannot be modified. If you try to modify them, a new object is created.\n",
        "    Cannot be changed, new object is created (e.g., str, tuple, int)"
      ],
      "metadata": {
        "id": "1_X8VJCzg6lc"
      }
    },
    {
      "cell_type": "code",
      "source": [
        "# for example of Mutable\n",
        "my_list = [1, 2, 3]\n",
        "print(id(my_list))\n",
        "\n",
        "my_list.append(4)\n",
        "print(my_list)\n",
        "print(id(my_list))\n",
        "\n",
        "\n",
        "# Immutable example\n",
        "my_string = \"Hello\"\n",
        "print(id(my_string))\n",
        "\n",
        "my_string += \" World\"\n",
        "print(my_string)\n",
        "print(id(my_string))\n",
        "\n"
      ],
      "metadata": {
        "colab": {
          "base_uri": "https://localhost:8080/"
        },
        "id": "paAAX8FwhNtO",
        "outputId": "ce6cf54f-2158-449b-8d25-ed80a98f9b81"
      },
      "execution_count": 1,
      "outputs": [
        {
          "output_type": "stream",
          "name": "stdout",
          "text": [
            "139988958662848\n",
            "[1, 2, 3, 4]\n",
            "139988958662848\n",
            "139988958664944\n",
            "Hello World\n",
            "139988958659120\n"
          ]
        }
      ]
    },
    {
      "cell_type": "markdown",
      "source": [
        "# 3. What are the main differences between lists and tuples in Python?\n",
        "\n",
        "# Ans-\n",
        "Both lists and tuples are used to store collections of items in Python, but they have some important differences:\n",
        "* lists:-\n",
        "    Mutable, meaning you can modify, add, or remove elements.\n",
        "    Uses square brackets [ ].\n",
        "    Slightly slower as they are mutable and require more memory management.\n",
        "    Uses more memory as it allows dynamic resizing.\n",
        "    We use Lists when we need to modify, add, or remove elements frequently.\n",
        "*  tuples:-\n",
        "     Immutable, meaning once created, its elements cannot be changed.\n",
        "     Faster than lists because they are immutable, allowing Python to optimize them.\n",
        "     Uses less memory as it has fixed size.\n",
        "     we use Tuples when we need a constant set of values that should not change (e.g., coordinates, database records)."
      ],
      "metadata": {
        "id": "xoKYSa9zhrVn"
      }
    },
    {
      "cell_type": "markdown",
      "source": [
        "# 4. Describe how dictionaries store data\n",
        "\n",
        "# Ans-\n",
        "Python dictionaries (dict) store data as key-value pairs using a hash table. Each key is hashed to generate a unique index, where the corresponding value is stored.\n",
        "* Key Concepts:\n",
        " Hashing: The hash() function computes a unique number for each key.\n",
        " Buckets: The dictionary maintains an internal array where key-value pairs are stored.\n",
        " Collision Handling: If two keys produce the same hash, Python resolves it using techniques like chaining or probing.\n",
        " Fast Access: Lookups, insertions, and deletions take O(1) time on average."
      ],
      "metadata": {
        "id": "JFjXkcE2iDiG"
      }
    },
    {
      "cell_type": "markdown",
      "source": [
        "# 5. Why might you use a set instead of a list in Python?\n",
        "\n",
        "# Ans-\n",
        "A set is faster and ensures unique elements, while a list maintains order and allows duplicates.\n",
        "Key Advantages of Sets Over Lists:\n",
        "* No Duplicates – Automatically removes duplicate values.\n",
        "* Faster Lookups (O(1)) – Uses a hash table, whereas lists require O(n) time.\n",
        "* Efficient Set Operations – Supports quick union (|), intersection (&), and difference (-).\n",
        "* Memory Efficient – Stores only unique elements, reducing space usage."
      ],
      "metadata": {
        "id": "bFkAIZpVqS7p"
      }
    },
    {
      "cell_type": "markdown",
      "source": [
        "# 6. What is a string in Python, and how is it different from a list?\n",
        "\n",
        "# Ans-\n",
        "A string in Python is a sequence of characters enclosed in single ('), double (\"), or triple (''' or \"\"\") quotes. Strings are immutable, meaning they cannot be changed after creation.\n",
        "It is different from a list:-\n",
        "* Immutable (cannot be changed)\n",
        "* Only characters\n",
        "* Cannot change a character directly\n",
        "* Can be iterated character by character\n",
        "* Done using + (creates a new string)"
      ],
      "metadata": {
        "id": "Vim17X2Dqf7_"
      }
    },
    {
      "cell_type": "markdown",
      "source": [
        "# 7. How do tuples ensure data integrity in Python?\n",
        "\n",
        "# Ans-\n",
        "A tuple in Python is an immutable sequence, meaning its elements cannot be modified, added, or removed after creation. This immutability ensures data integrity in several ways:-\n",
        "* Immutable – Tuples cannot be modified, preventing accidental changes.\n",
        "* Thread-Safe – Safe for multi-threading since data remains consistent.\n",
        "* Reliable Dictionary Keys – Can be used as keys in dictionaries because they don’t change"
      ],
      "metadata": {
        "id": "i977D4cdqrde"
      }
    },
    {
      "cell_type": "markdown",
      "source": [
        "# 8. What is a hash table, and how does it relate to dictionaries in Python?\n",
        "\n",
        "# Ans-\n",
        "A hash table is a data structure that stores key-value pairs using a hashing function to map keys to unique memory locations (buckets). It enables fast lookups, insertions, and deletions (O(1) on average).\n",
        "It is related to dictionaries in python through,\n",
        "Python’s dictionary (dict) is implemented using a hash table internally. When you store a key-value pair in a dictionary:\n",
        "The key is passed through a hash function, which generates a unique index.\n",
        "The value is stored at that index in memory.\n",
        "When you access the value using the key, Python quickly retrieves it using the same hash function.\n",
        "Because of this, dictionaries in Python provide fast lookups, insertions, and deletions, making them a powerful and efficient data structure for managing key-value mappings."
      ],
      "metadata": {
        "id": "uBMABw4wq2hr"
      }
    },
    {
      "cell_type": "markdown",
      "source": [
        "# 9. Can lists contain different data types in Python?\n",
        "\n",
        "# Ans-\n",
        "Yes in Python , lists can contain different data types. Python lists are heterogeneous, meaning they can store elements of various types, such as integers, floats, strings, booleans, other lists, and even objects."
      ],
      "metadata": {
        "id": "ylwed0InrFEv"
      }
    },
    {
      "cell_type": "markdown",
      "source": [
        "# 10. Explain why strings are immutable in Python?\n",
        "\n",
        "# Ans-\n",
        "In Python, strings are immutable, meaning once a string is created, it cannot be changed. Any operation that modifies a string actually creates a new string object rather than altering the original one.\n",
        "Reasons for String Immutability are\n",
        "* Memory Efficiency\n",
        "* Security & Hashing\n",
        "* Thread Safety\n",
        "* Simplifies Debugging"
      ],
      "metadata": {
        "id": "c4J-tfByrQzl"
      }
    },
    {
      "cell_type": "markdown",
      "source": [
        "# 11. What advantages do dictionaries offer over lists for certain tasks?\n",
        "\n",
        "# Ans-\n",
        "Dictionaries offer several advantages over lists for certain tasks, mainly due to their key-value pair structure and efficient lookups.\n",
        "and here are some advantage of dictionaries over lists:-\n",
        "* Faster Lookups (O(1) Time Complexity)\n",
        "* Meaningful Data Access\n",
        "* No Need for Sequential Storage\n",
        "* Eliminates Duplicates Using Unique Keys"
      ],
      "metadata": {
        "id": "0mOiU7hCrbaj"
      }
    },
    {
      "cell_type": "markdown",
      "source": [
        "# 12. Describe a scenario where using a tuple would be preferable over a list?\n",
        "\n",
        "# Ans-\n",
        "A tuple is preferable over a list when you need to store fixed, unchangeable data that should not be modified accidentally.\n",
        "and here is a scenario where a tuple would be preferable over a list:-\n",
        "Imagine we  are developing a map application, and we need to store latitude and longitude for a specific location. Since these values should not change, a tuple is a better choice than a list.and there is lots of scenario where we  use tuple over lists."
      ],
      "metadata": {
        "id": "pQYdeu1IroKs"
      }
    },
    {
      "cell_type": "markdown",
      "source": [
        "# 13.  How do sets handle duplicate values in Python?\n",
        "\n",
        "# Ans-\n",
        "A set is an unordered collection of unique elements, meaning that even if you try to add duplicate values, only one instance of each unique value is stored.It automatically remove duplicate values when elements are added."
      ],
      "metadata": {
        "id": "5CeRcmlSr1Wx"
      }
    },
    {
      "cell_type": "markdown",
      "source": [
        "# 14.  How does the “in” keyword work differently for lists and dictionaries?\n",
        "\n",
        "# Ans-\n",
        "The 'in' keyword is used to check membership in both lists and dictionaries, but it works differently for each others:\n",
        "* In lists:-\n",
        "  Python iterates through the list element by element until it finds a match.\n",
        "  This results in O(n) time complexity in the worst case.\n",
        "  Yes, directly check the element\n",
        "* In dictionaries:-\n",
        "   it  checks only keys, not values.\n",
        "  Dictionary lookups use a hash table, which provides an average O(1) time complexity for key lookups.\n",
        "  Use .values() for checking the element."
      ],
      "metadata": {
        "id": "mP41bbjksAnQ"
      }
    },
    {
      "cell_type": "markdown",
      "source": [
        "# 15. Can you modify the elements of a tuple? Explain why or why not\n",
        "\n",
        "# Ans-\n",
        "Yes  tuples are immutable, we cannot modify them directly, but we can convert them into a list, make changes, and then convert them back into a tuple.\n"
      ],
      "metadata": {
        "id": "1r-hjRa8sKdO"
      }
    },
    {
      "cell_type": "markdown",
      "source": [
        "# 16.  What is a nested dictionary, and give an example of its use case?\n",
        "\n",
        "# Ans-\n",
        "A nested dictionary is a dictionary inside another dictionary. It allows hierarchical storage of data, making it useful for structured data representation like databases, JSON, or real-world objects."
      ],
      "metadata": {
        "id": "ufGpNo7EsZsw"
      }
    },
    {
      "cell_type": "code",
      "source": [
        "# for example of nested dictionary\n",
        "students = {\n",
        "    \"101\": {\"name\": \"Anurag\", \"age\": 19, \"grades\": {\"math\": 85, \"science\": 90}},\n",
        "    \"102\": {\"name\": \"Vikram\", \"age\": 18, \"grades\": {\"math\": 78, \"science\": 88}},\n",
        "}\n",
        "\n",
        "# Accessing Nested Data\n",
        "print(students[\"101\"][\"name\"])\n",
        "print(students[\"102\"][\"grades\"][\"math\"])\n",
        "print(students[\"101\"][\"grades\"][\"science\"])"
      ],
      "metadata": {
        "colab": {
          "base_uri": "https://localhost:8080/"
        },
        "id": "VpsEaZYcsmn-",
        "outputId": "fb47c15f-4b9b-48da-f4bf-4da190d57c7f"
      },
      "execution_count": 3,
      "outputs": [
        {
          "output_type": "stream",
          "name": "stdout",
          "text": [
            "Anurag\n",
            "78\n",
            "90\n"
          ]
        }
      ]
    },
    {
      "cell_type": "markdown",
      "source": [
        "# 17.  Describe the time complexity of accessing elements in a dictionary?\n",
        "\n",
        "# Ans-\n",
        "Accessing elements in a dictionary is very fast due to its underlying hash table implementation and making them ideal for key-value mappings.\n",
        "it has Average Case: O(1) (Constant Time) and Worst Case: O(n) (Linear Time)\n",
        "In most cases, accessing elements in a dictionary is O(1) (very fast) and only in rare cases (hash collisions) can it degrade to O(n)\n"
      ],
      "metadata": {
        "id": "0PfuSG7ftHH0"
      }
    },
    {
      "cell_type": "markdown",
      "source": [
        "# 18. In what situations are lists preferred over dictionaries?\n",
        "\n",
        "# Ans-\n",
        "Even though dictionaries are powerful, lists are preferred in certain situations where their simplicity and ordering are beneficial\n",
        "so the situations are-\n",
        "* When Order Matters - Lists maintain strict order\n",
        "* When Indexed Access is Needed – Lists allow fast (O(1)) access by index, unlike dictionaries which require key lookups.\n",
        "* Memory Efficiency - Lists use less memory since they store only values, whereas dictionaries store key-value pairs.\n",
        "* orting & Slicing - Lists support built-in sorting and slicing, making them ideal for ordered data manipulation."
      ],
      "metadata": {
        "id": "8mcEUcgztSBq"
      }
    },
    {
      "cell_type": "markdown",
      "source": [
        "# 19. Why are dictionaries considered unordered, and how does that affect data retrieval?\n",
        "\n",
        "# Ans-\n",
        "Before 3.7+ Dictionaries were unordered, meaning key-value pairs could appear in any order,after that Dictionaries maintain insertion order, but they still lack index-based access like lists.\n",
        "How Does This Affect Data Retrieval:-\n",
        "* No Index-Based Access -You must use keys, not positions, to retrieve values.\n",
        "* Fast Lookups (O(1)) - Uses hashing, making retrieval much faster than lists (O(n)).\n",
        "* Maintains Order (Python 3.7+) - Iteration follows insertion order but still doesn’t allow indexing."
      ],
      "metadata": {
        "id": "oWQ1lUWOtcg7"
      }
    },
    {
      "cell_type": "markdown",
      "source": [
        "# 20.  Explain the difference between a list and a dictionary in terms of data retrieval.\n",
        "\n",
        "# Ans-\n",
        "* A lists-\n",
        "  ~  It is index-based (list[i]).\n",
        "  ~ It have O(n) (slower) – needs to search through elements.\n",
        "  ~ Maintains strict insertion order.\n",
        "  ~  No key-value mapping.\n",
        "  ~ Best for sequential data.\n",
        "* A dictionary-\n",
        "  ~ It is key-based (dict[key]).\n",
        "  ~ It have O(1) (faster) – uses hashing for quick lookups.\n",
        "  ~ its maintains insertion order (Python 3.7+), unordered before.\n",
        "  ~ It have key-value mapping .\n",
        "  ~ Best for fast lookups & mappings\n",
        "  "
      ],
      "metadata": {
        "id": "McO1LuClttXI"
      }
    },
    {
      "cell_type": "markdown",
      "source": [
        "# Practical Questions"
      ],
      "metadata": {
        "id": "60fgcf4jt3pH"
      }
    },
    {
      "cell_type": "markdown",
      "source": [
        "# 1. Write a code to create a string with your name and print it.\n",
        "\n"
      ],
      "metadata": {
        "id": "kTkDZY2ut85z"
      }
    },
    {
      "cell_type": "code",
      "source": [
        "# Ans-\n",
        "my_name=(\"Anurag Shergill\")\n",
        "print(my_name)"
      ],
      "metadata": {
        "colab": {
          "base_uri": "https://localhost:8080/"
        },
        "id": "BikrpzrxuJFF",
        "outputId": "25c5217d-f8ec-4a19-fd03-3ba46a8409ae"
      },
      "execution_count": 6,
      "outputs": [
        {
          "output_type": "stream",
          "name": "stdout",
          "text": [
            "Anurag Shergill\n"
          ]
        }
      ]
    },
    {
      "cell_type": "markdown",
      "source": [
        "# 2. Write a code to find the length of the string \"Hello World\"."
      ],
      "metadata": {
        "id": "Jxi7sn9Lud_v"
      }
    },
    {
      "cell_type": "code",
      "source": [
        "str = \"Hello World\"\n",
        "print(len(str))"
      ],
      "metadata": {
        "colab": {
          "base_uri": "https://localhost:8080/"
        },
        "id": "HG6ikGX1uk6G",
        "outputId": "882372e3-24d9-44b4-9f74-e41fa21979aa"
      },
      "execution_count": 8,
      "outputs": [
        {
          "output_type": "stream",
          "name": "stdout",
          "text": [
            "11\n"
          ]
        }
      ]
    },
    {
      "cell_type": "markdown",
      "source": [
        "# 3. Write a code to slice the first 3 characters from the string \"Python Programming\"."
      ],
      "metadata": {
        "id": "ZhxO2t73u9eZ"
      }
    },
    {
      "cell_type": "code",
      "source": [
        "str = \"Python Programming\"\n",
        "print(str[0:3])"
      ],
      "metadata": {
        "colab": {
          "base_uri": "https://localhost:8080/"
        },
        "id": "M9sKGkjEvEKk",
        "outputId": "1e5aab99-0cef-41fd-a46a-62efce468fa7"
      },
      "execution_count": 10,
      "outputs": [
        {
          "output_type": "stream",
          "name": "stdout",
          "text": [
            "Pyt\n"
          ]
        }
      ]
    },
    {
      "cell_type": "markdown",
      "source": [
        "# 4. Write a code to convert the string \"hello\" to uppercase."
      ],
      "metadata": {
        "id": "7iUGOMa5vqLr"
      }
    },
    {
      "cell_type": "code",
      "source": [
        "String =\"hello\"\n",
        "print(String.upper())"
      ],
      "metadata": {
        "colab": {
          "base_uri": "https://localhost:8080/"
        },
        "id": "PsrUw9ZvvvR_",
        "outputId": "1df05cc3-0234-4458-8a14-dd5b8885d365"
      },
      "execution_count": 11,
      "outputs": [
        {
          "output_type": "stream",
          "name": "stdout",
          "text": [
            "HELLO\n"
          ]
        }
      ]
    },
    {
      "cell_type": "markdown",
      "source": [
        "# 5. Write a code to replace the word \"apple\" with \"orange\" in the string \"I like apple\"?"
      ],
      "metadata": {
        "id": "qe7mjKaGv7YQ"
      }
    },
    {
      "cell_type": "code",
      "source": [
        "Str =\"I like apple\"\n",
        "New_code=Str.replace(\"apple\",\"orange\")\n",
        "print(New_code)"
      ],
      "metadata": {
        "colab": {
          "base_uri": "https://localhost:8080/"
        },
        "id": "bs_OHCC7wAQY",
        "outputId": "d41c69fd-7571-4555-a3ad-905ade6bf60b"
      },
      "execution_count": 12,
      "outputs": [
        {
          "output_type": "stream",
          "name": "stdout",
          "text": [
            "I like orange\n"
          ]
        }
      ]
    },
    {
      "cell_type": "markdown",
      "source": [
        "# 6.  Write a code to create a list with numbers 1 to 5 and print it?\n"
      ],
      "metadata": {
        "id": "oBLnYLwKwTXE"
      }
    },
    {
      "cell_type": "code",
      "source": [
        "list = [1,2,3,4,5]\n",
        "print(list)"
      ],
      "metadata": {
        "colab": {
          "base_uri": "https://localhost:8080/"
        },
        "id": "vIf75Q1BwY5Y",
        "outputId": "f7746e27-830a-48ec-8902-6604841275cb"
      },
      "execution_count": 13,
      "outputs": [
        {
          "output_type": "stream",
          "name": "stdout",
          "text": [
            "[1, 2, 3, 4, 5]\n"
          ]
        }
      ]
    },
    {
      "cell_type": "markdown",
      "source": [
        "# 7.  Write a code to append the number 10 to the list [1, 2, 3, 4]"
      ],
      "metadata": {
        "id": "IbqIBKdhwhCN"
      }
    },
    {
      "cell_type": "code",
      "source": [
        "list = [1,2,3,4]\n",
        "list.append(10) # append means add new no. in the list\n",
        "print(list)"
      ],
      "metadata": {
        "colab": {
          "base_uri": "https://localhost:8080/"
        },
        "id": "LKQwKOOywmFd",
        "outputId": "8800ff17-257e-42f8-80cc-9665e2e39ca7"
      },
      "execution_count": 14,
      "outputs": [
        {
          "output_type": "stream",
          "name": "stdout",
          "text": [
            "[1, 2, 3, 4, 10]\n"
          ]
        }
      ]
    },
    {
      "cell_type": "markdown",
      "source": [
        "# 8. Write a code to remove the number 3 from the list [1, 2, 3, 4, 5]"
      ],
      "metadata": {
        "id": "H7aI8-lSw87E"
      }
    },
    {
      "cell_type": "code",
      "source": [
        "List_no = [1,2,3,4,5]\n",
        "List_no.remove(3)\n",
        "print(List_no)"
      ],
      "metadata": {
        "colab": {
          "base_uri": "https://localhost:8080/"
        },
        "id": "5C1GA2nZxClY",
        "outputId": "398fac5a-89a6-457b-a327-b29cb816aaa7"
      },
      "execution_count": 15,
      "outputs": [
        {
          "output_type": "stream",
          "name": "stdout",
          "text": [
            "[1, 2, 4, 5]\n"
          ]
        }
      ]
    },
    {
      "cell_type": "markdown",
      "source": [
        "# 9. Write a code to access the second element in the list ['a', 'b', 'c', 'd']"
      ],
      "metadata": {
        "id": "QO3MmbNuxUBH"
      }
    },
    {
      "cell_type": "code",
      "source": [
        "List = ['a','b','c','d']\n",
        "print(List[1])"
      ],
      "metadata": {
        "colab": {
          "base_uri": "https://localhost:8080/"
        },
        "id": "MkDuENLOxaN4",
        "outputId": "6a7625d8-3201-468f-83e8-1f083bc0ff4e"
      },
      "execution_count": 16,
      "outputs": [
        {
          "output_type": "stream",
          "name": "stdout",
          "text": [
            "b\n"
          ]
        }
      ]
    },
    {
      "cell_type": "markdown",
      "source": [
        "# 10.  Write a code to reverse the list [10, 20, 30, 40, 50]."
      ],
      "metadata": {
        "id": "XaHqiQoOxmkY"
      }
    },
    {
      "cell_type": "code",
      "source": [
        "List = [10,20,30,40,50]\n",
        "reverse_List = List[::-1]\n",
        "print(reverse_List)"
      ],
      "metadata": {
        "colab": {
          "base_uri": "https://localhost:8080/"
        },
        "id": "OuLJADw1xphs",
        "outputId": "072a4c44-58d3-487f-d128-3e441e308a41"
      },
      "execution_count": 17,
      "outputs": [
        {
          "output_type": "stream",
          "name": "stdout",
          "text": [
            "[50, 40, 30, 20, 10]\n"
          ]
        }
      ]
    },
    {
      "cell_type": "markdown",
      "source": [
        "# 11. Write a code to create a tuple with the elements 100, 200, 300 and print it."
      ],
      "metadata": {
        "id": "J3k9DZ1Jx5NQ"
      }
    },
    {
      "cell_type": "code",
      "source": [
        "L = (100,200,300)\n",
        "print(L)"
      ],
      "metadata": {
        "colab": {
          "base_uri": "https://localhost:8080/"
        },
        "id": "O4pifoaxx-Lj",
        "outputId": "b29f0317-feec-4d4a-96ca-c9a2a24a4b37"
      },
      "execution_count": 18,
      "outputs": [
        {
          "output_type": "stream",
          "name": "stdout",
          "text": [
            "(100, 200, 300)\n"
          ]
        }
      ]
    },
    {
      "cell_type": "markdown",
      "source": [
        "# 12. . Write a code to access the second-to-last element of the tuple ('red', 'green', 'blue', 'yellow')."
      ],
      "metadata": {
        "id": "ceBFEuypyDl7"
      }
    },
    {
      "cell_type": "code",
      "source": [
        "L = ('red','green','blue','yellow')\n",
        "second_last =L[-2]\n",
        "print(second_last)"
      ],
      "metadata": {
        "colab": {
          "base_uri": "https://localhost:8080/"
        },
        "id": "E3JMpz3qyJPG",
        "outputId": "2bb99953-f8bf-4032-bf26-a7087893918c"
      },
      "execution_count": 19,
      "outputs": [
        {
          "output_type": "stream",
          "name": "stdout",
          "text": [
            "blue\n"
          ]
        }
      ]
    },
    {
      "cell_type": "markdown",
      "source": [
        "# 13. Write a code to find the minimum number in the tuple (10, 20, 5, 15)."
      ],
      "metadata": {
        "id": "WFoVh92yyNwm"
      }
    },
    {
      "cell_type": "code",
      "source": [
        "numbers = (10,20,5,15)\n",
        "min_number = min(numbers)\n",
        "print(\"Minimum number:\", min_number)"
      ],
      "metadata": {
        "colab": {
          "base_uri": "https://localhost:8080/"
        },
        "id": "EcuhzrD8ySny",
        "outputId": "f5a46ce1-f74a-4397-8e96-9eb666db2110"
      },
      "execution_count": 20,
      "outputs": [
        {
          "output_type": "stream",
          "name": "stdout",
          "text": [
            "Minimum number: 5\n"
          ]
        }
      ]
    },
    {
      "cell_type": "markdown",
      "source": [
        "# 14. . Write a code to find the index of the element \"cat\" in the tuple ('dog', 'cat', 'rabbit')."
      ],
      "metadata": {
        "id": "j5cp7VsLyW5E"
      }
    },
    {
      "cell_type": "code",
      "source": [
        "Animals = ('dog','cat','rabbit')\n",
        "index_of_cat = Animals.index('cat')\n",
        "print(\"Index of 'cat':\", index_of_cat)\n"
      ],
      "metadata": {
        "colab": {
          "base_uri": "https://localhost:8080/"
        },
        "id": "8FiLy2kOybw4",
        "outputId": "8c190b52-9d63-4376-f4e3-b80c0508183a"
      },
      "execution_count": 21,
      "outputs": [
        {
          "output_type": "stream",
          "name": "stdout",
          "text": [
            "Index of 'cat': 1\n"
          ]
        }
      ]
    },
    {
      "cell_type": "markdown",
      "source": [
        "# 15 .  Write a code to create a tuple containing three different fruits and check if \"kiwi\" is in it."
      ],
      "metadata": {
        "id": "_D_BNZinyiT_"
      }
    },
    {
      "cell_type": "code",
      "source": [
        "Fruits = ('mango','banana','kiwi')\n",
        "if 'kiwi' in Fruits:\n",
        "    print(\"kiwi is in it\")\n",
        "else:\n",
        "    print(\"kiwi isn't in it\")"
      ],
      "metadata": {
        "colab": {
          "base_uri": "https://localhost:8080/"
        },
        "id": "pWUzR1ojyn8W",
        "outputId": "faa8160f-1029-4d7c-b05e-c0ccf823e2c0"
      },
      "execution_count": 22,
      "outputs": [
        {
          "output_type": "stream",
          "name": "stdout",
          "text": [
            "kiwi is in it\n"
          ]
        }
      ]
    },
    {
      "cell_type": "markdown",
      "source": [
        "# 16.  Write a code to create a set with the elements 'a', 'b', 'c' and print it."
      ],
      "metadata": {
        "id": "Ebe7y-DZyuYL"
      }
    },
    {
      "cell_type": "code",
      "source": [
        "Elements = {'a','b','c'}\n",
        "print(Elements) # sets mai order fix nhi hota"
      ],
      "metadata": {
        "colab": {
          "base_uri": "https://localhost:8080/"
        },
        "id": "boczGJmHyyx6",
        "outputId": "9a5e9da1-1031-4c0f-af1c-b6067ccf2289"
      },
      "execution_count": 24,
      "outputs": [
        {
          "output_type": "stream",
          "name": "stdout",
          "text": [
            "{'b', 'a', 'c'}\n"
          ]
        }
      ]
    },
    {
      "cell_type": "markdown",
      "source": [
        "# 17.  Write a code to clear all elements from the set {1, 2, 3, 4, 5}."
      ],
      "metadata": {
        "id": "51SJcR6Ly9Z_"
      }
    },
    {
      "cell_type": "code",
      "source": [
        "elements = {1,2,3,4,5}\n",
        "elements.clear()\n",
        "print(elements)"
      ],
      "metadata": {
        "colab": {
          "base_uri": "https://localhost:8080/"
        },
        "id": "BM4QZvm1zCJN",
        "outputId": "94b69fa4-a862-4a68-80bf-377372722b8b"
      },
      "execution_count": 25,
      "outputs": [
        {
          "output_type": "stream",
          "name": "stdout",
          "text": [
            "set()\n"
          ]
        }
      ]
    },
    {
      "cell_type": "markdown",
      "source": [
        "# 18 . Write a code to remove the element 4 from the set {1, 2, 3, 4}."
      ],
      "metadata": {
        "id": "nvly1K4BzHX8"
      }
    },
    {
      "cell_type": "code",
      "source": [
        "Elements = {1,2,3,4}\n",
        "Elements.remove(4)\n",
        "print(Elements)"
      ],
      "metadata": {
        "colab": {
          "base_uri": "https://localhost:8080/"
        },
        "id": "iOOJy90PzMAY",
        "outputId": "f1ac527a-3f02-4e96-cc7d-016873c11cca"
      },
      "execution_count": 26,
      "outputs": [
        {
          "output_type": "stream",
          "name": "stdout",
          "text": [
            "{1, 2, 3}\n"
          ]
        }
      ]
    },
    {
      "cell_type": "markdown",
      "source": [
        "# 19.  Write a code to find the union of two sets {1, 2, 3} and {3, 4, 5}."
      ],
      "metadata": {
        "id": "-QBGqEFlzQ6E"
      }
    },
    {
      "cell_type": "code",
      "source": [
        "A = {1,2,3}\n",
        "B = {3,4,5}\n",
        "union = A.union(B)\n",
        "print(\"union:\", union)"
      ],
      "metadata": {
        "colab": {
          "base_uri": "https://localhost:8080/"
        },
        "id": "q8sNxSi9zVRh",
        "outputId": "da35ddd6-8f9f-4820-e938-1f1ed8992629"
      },
      "execution_count": 28,
      "outputs": [
        {
          "output_type": "stream",
          "name": "stdout",
          "text": [
            "union: {1, 2, 3, 4, 5}\n"
          ]
        }
      ]
    },
    {
      "cell_type": "markdown",
      "source": [
        "# 20.  Write a code to find the intersection of two sets {1, 2, 3} and {2, 3, 4}."
      ],
      "metadata": {
        "id": "Xsz6Gg8KzhZ-"
      }
    },
    {
      "cell_type": "code",
      "source": [
        "set = {1,2,3}\n",
        "set1 = {2,3,4}\n",
        "intersection_sets = set.intersection(set1)\n",
        "print(intersection_sets )"
      ],
      "metadata": {
        "colab": {
          "base_uri": "https://localhost:8080/"
        },
        "id": "uEmfai1kzmv1",
        "outputId": "b05159b9-f09f-451b-98d6-cf4b8b88116e"
      },
      "execution_count": 29,
      "outputs": [
        {
          "output_type": "stream",
          "name": "stdout",
          "text": [
            "{2, 3}\n"
          ]
        }
      ]
    },
    {
      "cell_type": "markdown",
      "source": [
        "# 21.  Write a code to create a dictionary with the keys \"name\", \"age\", and \"city\", and print it."
      ],
      "metadata": {
        "id": "u1aKn7hDzr6F"
      }
    },
    {
      "cell_type": "code",
      "source": [
        "person = {\n",
        "    \"name\": \"Anurag\",\n",
        "    \"age\": 19,\n",
        "    \"city\": \"Patna\"\n",
        "}\n",
        "print(person)\n"
      ],
      "metadata": {
        "colab": {
          "base_uri": "https://localhost:8080/"
        },
        "id": "_S11oybcz2FJ",
        "outputId": "45fb44c8-8408-4f65-bd20-172b891d376a"
      },
      "execution_count": 30,
      "outputs": [
        {
          "output_type": "stream",
          "name": "stdout",
          "text": [
            "{'name': 'Anurag', 'age': 19, 'city': 'Patna'}\n"
          ]
        }
      ]
    },
    {
      "cell_type": "markdown",
      "source": [
        "# 22. Write a code to add a new key-value pair \"country\": \"USA\" to the dictionary {'name': 'John', 'age': 25}."
      ],
      "metadata": {
        "id": "A9p7JHaI0D-e"
      }
    },
    {
      "cell_type": "code",
      "source": [
        "person = {\n",
        "    \"name\": \"John\",\n",
        "    \"age\": 25,\n",
        "}\n",
        "person[\"country\"]= \"USA\"\n",
        "print(person)"
      ],
      "metadata": {
        "colab": {
          "base_uri": "https://localhost:8080/"
        },
        "id": "cj-AINdK0IWj",
        "outputId": "cc81cffc-da98-4fe1-f372-326dd621eaee"
      },
      "execution_count": 31,
      "outputs": [
        {
          "output_type": "stream",
          "name": "stdout",
          "text": [
            "{'name': 'John', 'age': 25, 'country': 'USA'}\n"
          ]
        }
      ]
    },
    {
      "cell_type": "markdown",
      "source": [
        "# 23. Write a code to access the value associated with the key \"name\" in the dictionary {'name': 'Alice', 'age': 30}."
      ],
      "metadata": {
        "id": "DbD-71FL0OVX"
      }
    },
    {
      "cell_type": "code",
      "source": [
        "person = {'name': 'Alice', 'age': 30}\n",
        "name_value = person['name']\n",
        "print(\"Name:\", name_value)\n"
      ],
      "metadata": {
        "colab": {
          "base_uri": "https://localhost:8080/"
        },
        "id": "9CmTdw930S9b",
        "outputId": "a50bdd41-610e-46b1-b176-78c84660383a"
      },
      "execution_count": 32,
      "outputs": [
        {
          "output_type": "stream",
          "name": "stdout",
          "text": [
            "Name: Alice\n"
          ]
        }
      ]
    },
    {
      "cell_type": "markdown",
      "source": [
        "# 24.  Write a code to remove the key \"age\" from the dictionary {'name': 'Bob', 'age': 22, 'city': 'New York'}."
      ],
      "metadata": {
        "id": "1pAoer0w0Znq"
      }
    },
    {
      "cell_type": "code",
      "source": [
        "person = {'name': 'Bob', 'age': 22, 'city': 'New York'}\n",
        "person.pop('age')\n",
        "print(person)"
      ],
      "metadata": {
        "colab": {
          "base_uri": "https://localhost:8080/"
        },
        "id": "0goP2owz0d8d",
        "outputId": "8da8a554-411b-4cb6-9186-5fb7f4ddd5ce"
      },
      "execution_count": 33,
      "outputs": [
        {
          "output_type": "stream",
          "name": "stdout",
          "text": [
            "{'name': 'Bob', 'city': 'New York'}\n"
          ]
        }
      ]
    },
    {
      "cell_type": "markdown",
      "source": [
        "# 25. Write a code to check if the key \"city\" exists in the dictionary {'name': 'Alice', 'city': 'Paris'}."
      ],
      "metadata": {
        "id": "GLDEPhv_0kRA"
      }
    },
    {
      "cell_type": "code",
      "source": [
        "person = {'name': 'Alice', 'city': 'Paris'}\n",
        "if 'city' in person:\n",
        "    print(\"'city' key exists in the dictionary\")\n",
        "else:\n",
        "    print(\"'city' key does not exist in the dictionary\")\n"
      ],
      "metadata": {
        "colab": {
          "base_uri": "https://localhost:8080/"
        },
        "id": "icF4tmot0qC9",
        "outputId": "ed8a4c3d-ccde-43e5-e8de-bd0f0df10e2c"
      },
      "execution_count": 34,
      "outputs": [
        {
          "output_type": "stream",
          "name": "stdout",
          "text": [
            "'city' key exists in the dictionary\n"
          ]
        }
      ]
    },
    {
      "cell_type": "markdown",
      "source": [
        "# 26.  Write a code to create a list, a tuple, and a dictionary, and print them all."
      ],
      "metadata": {
        "id": "Zb41F2uL0uZf"
      }
    },
    {
      "cell_type": "code",
      "source": [
        "my_list = [1, 2, 3, 4, 5]\n",
        "my_tuple = (10, 20, 30, 40, 50)\n",
        "my_dict = {'name': 'Alice', 'age': 25, 'city': 'New York'}\n",
        "print(\"List:\", my_list)\n",
        "print(\"Tuple:\", my_tuple)\n",
        "print(\"Dictionary:\", my_dict)"
      ],
      "metadata": {
        "colab": {
          "base_uri": "https://localhost:8080/"
        },
        "id": "vAC6MJR80ylA",
        "outputId": "6cbcd9cd-c9cd-4dae-a8de-3893973b20c0"
      },
      "execution_count": 35,
      "outputs": [
        {
          "output_type": "stream",
          "name": "stdout",
          "text": [
            "List: [1, 2, 3, 4, 5]\n",
            "Tuple: (10, 20, 30, 40, 50)\n",
            "Dictionary: {'name': 'Alice', 'age': 25, 'city': 'New York'}\n"
          ]
        }
      ]
    },
    {
      "cell_type": "markdown",
      "source": [
        "# 27. Write a code to create a list of 5 random numbers between 1 and 100, sort it in ascending order, and print the result.(replaced)"
      ],
      "metadata": {
        "id": "lYuAxVYd02r1"
      }
    },
    {
      "cell_type": "code",
      "source": [
        "import random\n",
        "random_numbers = [random.randint(1, 100) for _ in range(5)]\n",
        "random_numbers.sort()\n",
        "print(\"Sorted Random Numbers:\", random_numbers)\n"
      ],
      "metadata": {
        "colab": {
          "base_uri": "https://localhost:8080/"
        },
        "id": "HnEg1sa-08tH",
        "outputId": "8dc1fa99-f3eb-46c4-a253-bde0842a5343"
      },
      "execution_count": 36,
      "outputs": [
        {
          "output_type": "stream",
          "name": "stdout",
          "text": [
            "Sorted Random Numbers: [6, 10, 12, 63, 97]\n"
          ]
        }
      ]
    },
    {
      "cell_type": "markdown",
      "source": [
        "# 28.  Write a code to create a list with strings and print the element at the third index."
      ],
      "metadata": {
        "id": "ci5P_RQG1DN_"
      }
    },
    {
      "cell_type": "code",
      "source": [
        "fruits = [\"Apple\", \"Banana\", \"Cherry\", \"Mango\", \"Orange\"]\n",
        "print(\"Element at index 3:\", fruits[3])"
      ],
      "metadata": {
        "colab": {
          "base_uri": "https://localhost:8080/"
        },
        "id": "FSMlZTc31HN4",
        "outputId": "48886b95-dd9c-489f-aea7-29565dea1ea8"
      },
      "execution_count": 37,
      "outputs": [
        {
          "output_type": "stream",
          "name": "stdout",
          "text": [
            "Element at index 3: Mango\n"
          ]
        }
      ]
    },
    {
      "cell_type": "markdown",
      "source": [
        "# 29.  Write a code to combine two dictionaries into one and print the result."
      ],
      "metadata": {
        "id": "BYEoPuhM1L4c"
      }
    },
    {
      "cell_type": "code",
      "source": [
        "dict1 = {'a': 1, 'b': 2}\n",
        "dict2 = {'c': 3, 'd': 4}\n",
        "dict1.update(dict2)\n",
        "print(\"Merged Dictionary:\", dict1)\n"
      ],
      "metadata": {
        "colab": {
          "base_uri": "https://localhost:8080/"
        },
        "id": "Bl9iCBk91Q1D",
        "outputId": "c709d7ae-48fc-4811-9ddf-4d10755f788c"
      },
      "execution_count": 38,
      "outputs": [
        {
          "output_type": "stream",
          "name": "stdout",
          "text": [
            "Merged Dictionary: {'a': 1, 'b': 2, 'c': 3, 'd': 4}\n"
          ]
        }
      ]
    },
    {
      "cell_type": "markdown",
      "source": [
        "# 30. Write a code to convert a list of strings into a set."
      ],
      "metadata": {
        "id": "1jDGrfeY1Vg5"
      }
    },
    {
      "cell_type": "code",
      "source": [
        "my_list = [1,12,50]\n",
        "my_set = set(my_list)\n",
        "print(my_set)"
      ],
      "metadata": {
        "colab": {
          "base_uri": "https://localhost:8080/",
          "height": 176
        },
        "id": "8kGSVcrN1ZyK",
        "outputId": "d7844fe3-f5e3-41ff-c534-ce7b8cc9b94d"
      },
      "execution_count": 58,
      "outputs": [
        {
          "output_type": "error",
          "ename": "TypeError",
          "evalue": "'set' object is not callable",
          "traceback": [
            "\u001b[0;31m---------------------------------------------------------------------------\u001b[0m",
            "\u001b[0;31mTypeError\u001b[0m                                 Traceback (most recent call last)",
            "\u001b[0;32m<ipython-input-58-24a00c78f2b0>\u001b[0m in \u001b[0;36m<cell line: 0>\u001b[0;34m()\u001b[0m\n\u001b[1;32m      1\u001b[0m \u001b[0mmy_list\u001b[0m \u001b[0;34m=\u001b[0m \u001b[0;34m[\u001b[0m\u001b[0;36m1\u001b[0m\u001b[0;34m,\u001b[0m\u001b[0;36m12\u001b[0m\u001b[0;34m,\u001b[0m\u001b[0;36m50\u001b[0m\u001b[0;34m]\u001b[0m\u001b[0;34m\u001b[0m\u001b[0;34m\u001b[0m\u001b[0m\n\u001b[0;32m----> 2\u001b[0;31m \u001b[0mmy_set\u001b[0m \u001b[0;34m=\u001b[0m \u001b[0mset\u001b[0m\u001b[0;34m(\u001b[0m\u001b[0mmy_list\u001b[0m\u001b[0;34m)\u001b[0m\u001b[0;34m\u001b[0m\u001b[0;34m\u001b[0m\u001b[0m\n\u001b[0m\u001b[1;32m      3\u001b[0m \u001b[0mprint\u001b[0m\u001b[0;34m(\u001b[0m\u001b[0mmy_set\u001b[0m\u001b[0;34m)\u001b[0m\u001b[0;34m\u001b[0m\u001b[0;34m\u001b[0m\u001b[0m\n",
            "\u001b[0;31mTypeError\u001b[0m: 'set' object is not callable"
          ]
        }
      ]
    }
  ]
}